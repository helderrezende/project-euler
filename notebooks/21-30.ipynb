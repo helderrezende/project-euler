{
 "cells": [
  {
   "cell_type": "markdown",
   "metadata": {},
   "source": [
    "## Digit fifth powers\n",
    "### Problem 30"
   ]
  },
  {
   "cell_type": "markdown",
   "metadata": {},
   "source": [
    "Surprisingly there are only three numbers that can be written as the sum of fourth powers of their digits:\n",
    "\n",
    "$ 1634 = 1^4 + 6^4 + 3^4 + 4^4$ \n",
    "\n",
    "$ 8208 = 8^4 + 2^4 + 0^4 + 8^4$\n",
    "\n",
    "$ 9474 = 9^4 + 4^4 + 7^4 + 4^4$ \n",
    "\n",
    "As $1 = 1^4$ is not a sum it is not included.\n",
    "\n",
    "The sum of these numbers is 1634 + 8208 + 9474 = 19316.\n",
    "\n",
    "Find the sum of all the numbers that can be written as the sum of fifth powers of their digits."
   ]
  },
  {
   "cell_type": "code",
   "execution_count": 19,
   "metadata": {},
   "outputs": [],
   "source": [
    "def main():\n",
    "    count = 0\n",
    "    for i in range(1, 999999):\n",
    "        str_number = str(i)\n",
    "        sum_number = sum([int(x)**5 for x in str_number])\n",
    "        if i == sum_number:\n",
    "            count += sum_number\n",
    "\n",
    "    return count-1"
   ]
  },
  {
   "cell_type": "code",
   "execution_count": 20,
   "metadata": {},
   "outputs": [
    {
     "name": "stdout",
     "output_type": "stream",
     "text": [
      "1\n",
      "4150\n",
      "4151\n",
      "54748\n",
      "92727\n",
      "93084\n",
      "194979\n"
     ]
    },
    {
     "data": {
      "text/plain": [
       "443839"
      ]
     },
     "execution_count": 20,
     "metadata": {},
     "output_type": "execute_result"
    }
   ],
   "source": [
    "%time main()"
   ]
  }
 ],
 "metadata": {
  "kernelspec": {
   "display_name": "Python 3",
   "language": "python",
   "name": "python3"
  },
  "language_info": {
   "codemirror_mode": {
    "name": "ipython",
    "version": 3
   },
   "file_extension": ".py",
   "mimetype": "text/x-python",
   "name": "python",
   "nbconvert_exporter": "python",
   "pygments_lexer": "ipython3",
   "version": "3.6.1"
  }
 },
 "nbformat": 4,
 "nbformat_minor": 2
}
