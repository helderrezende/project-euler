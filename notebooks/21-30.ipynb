{
 "cells": [
  {
   "cell_type": "markdown",
   "metadata": {},
   "source": [
    "## Digit fifth powers\n",
    "### Problem 30"
   ]
  },
  {
   "cell_type": "markdown",
   "metadata": {},
   "source": [
    "Surprisingly there are only three numbers that can be written as the sum of fourth powers of their digits:\n",
    "\n",
    "$ 1634 = 1^4 + 6^4 + 3^4 + 4^4$ \n",
    "\n",
    "$ 8208 = 8^4 + 2^4 + 0^4 + 8^4$\n",
    "\n",
    "$ 9474 = 9^4 + 4^4 + 7^4 + 4^4$ \n",
    "\n",
    "As $1 = 1^4$ is not a sum it is not included.\n",
    "\n",
    "The sum of these numbers is 1634 + 8208 + 9474 = 19316.\n",
    "\n",
    "Find the sum of all the numbers that can be written as the sum of fifth powers of their digits."
   ]
  },
  {
   "cell_type": "code",
   "execution_count": 128,
   "metadata": {
    "collapsed": true
   },
   "outputs": [],
   "source": [
    "def main():\n",
    "    count = 0\n",
    "    for i in range(1, 999999):\n",
    "        str_number = str(i)\n",
    "        sum_number = sum([int(x)**5 for x in str_number])\n",
    "        if i == sum_number:\n",
    "            count += sum_number\n",
    "\n",
    "    return count-1"
   ]
  },
  {
   "cell_type": "code",
   "execution_count": 129,
   "metadata": {},
   "outputs": [
    {
     "name": "stdout",
     "output_type": "stream",
     "text": [
      "Wall time: 4.52 s\n"
     ]
    },
    {
     "data": {
      "text/plain": [
       "443839"
      ]
     },
     "execution_count": 129,
     "metadata": {},
     "output_type": "execute_result"
    }
   ],
   "source": [
    "%time main()"
   ]
  },
  {
   "cell_type": "markdown",
   "metadata": {},
   "source": [
    "## Names scores\n",
    "### Problem 22"
   ]
  },
  {
   "cell_type": "markdown",
   "metadata": {},
   "source": [
    "Using names.txt, a 46K text file containing over five-thousand first names, begin by sorting it into alphabetical order. Then working out the alphabetical value for each name, multiply this value by its alphabetical position in the list to obtain a name score.\n",
    "\n",
    "For example, when the list is sorted into alphabetical order, COLIN, which is worth 3 + 15 + 12 + 9 + 14 = 53, is the 938th name in the list. So, COLIN would obtain a score of 938 × 53 = 49714.\n",
    "\n",
    "What is the total of all the name scores in the file?"
   ]
  },
  {
   "cell_type": "code",
   "execution_count": 73,
   "metadata": {
    "collapsed": true
   },
   "outputs": [],
   "source": [
    "import string\n",
    "import pandas as pd"
   ]
  },
  {
   "cell_type": "code",
   "execution_count": 127,
   "metadata": {},
   "outputs": [
    {
     "name": "stdout",
     "output_type": "stream",
     "text": [
      "Wall time: 19.6 ms\n"
     ]
    },
    {
     "data": {
      "text/plain": [
       "871198282"
      ]
     },
     "execution_count": 127,
     "metadata": {},
     "output_type": "execute_result"
    }
   ],
   "source": [
    "def main():\n",
    "\n",
    "    f = open(r'data/p022_names.txt', 'r')\n",
    "\n",
    "    data = f.readlines()[0].split(',')\n",
    "    data = sorted([name.replace('\"', '') for name in data])\n",
    "    sum_total = 0\n",
    "    position = 1\n",
    "\n",
    "    for name in data:\n",
    "\n",
    "        name = name.replace('\"', '')\n",
    "        sum_letter = 0\n",
    "\n",
    "        for letter in name:\n",
    "            sum_letter += string.ascii_uppercase.index(letter) + 1\n",
    "\n",
    "        sum_total += (sum_letter * position)\n",
    "\n",
    "        position += 1\n",
    "\n",
    "    return sum_total\n",
    "\n",
    "\n",
    "%time main()"
   ]
  },
  {
   "cell_type": "markdown",
   "metadata": {},
   "source": [
    "## 1000-digit Fibonacci number\n",
    "### Problem 25"
   ]
  },
  {
   "cell_type": "markdown",
   "metadata": {},
   "source": [
    "The Fibonacci sequence is defined by the recurrence relation:\n",
    "\n",
    "Fn = Fn−1 + Fn−2, where F1 = 1 and F2 = 1.\n",
    "Hence the first 12 terms will be:\n",
    "\n",
    "$ F1 = 1$ \n",
    "\n",
    "$F2 = 1$\n",
    "\n",
    "$F3 = 2$\n",
    "\n",
    "$F4 = 3$\n",
    "\n",
    "$F5 = 5$\n",
    "\n",
    "$F6 = 8$\n",
    "\n",
    "$F7 = 13$\n",
    "\n",
    "$F8 = 21$\n",
    "\n",
    "$F9 = 34$\n",
    "\n",
    "$F10 = 55$\n",
    "\n",
    "$F11 = 89$\n",
    "\n",
    "$F12 = 144$\n",
    "\n",
    "The 12th term, F12, is the first term to contain three digits.\n",
    "\n",
    "What is the index of the first term in the Fibonacci sequence to contain 1000 digits?"
   ]
  },
  {
   "cell_type": "code",
   "execution_count": 202,
   "metadata": {
    "collapsed": true
   },
   "outputs": [],
   "source": [
    "def main():\n",
    "    fibs = [0, 1]\n",
    "    while True:\n",
    "        next_fib = fibs[-1] + fibs[-2]\n",
    "        if len(str(next_fib)) >= 1000:\n",
    "            break\n",
    "        fibs.append(next_fib)\n",
    "    return len(fibs)"
   ]
  },
  {
   "cell_type": "code",
   "execution_count": 204,
   "metadata": {},
   "outputs": [
    {
     "name": "stdout",
     "output_type": "stream",
     "text": [
      "Wall time: 47.6 ms\n"
     ]
    },
    {
     "data": {
      "text/plain": [
       "4782"
      ]
     },
     "execution_count": 204,
     "metadata": {},
     "output_type": "execute_result"
    }
   ],
   "source": [
    "%time main()"
   ]
  },
  {
   "cell_type": "code",
   "execution_count": null,
   "metadata": {
    "collapsed": true
   },
   "outputs": [],
   "source": []
  },
  {
   "cell_type": "code",
   "execution_count": null,
   "metadata": {
    "collapsed": true
   },
   "outputs": [],
   "source": []
  },
  {
   "cell_type": "code",
   "execution_count": null,
   "metadata": {
    "collapsed": true
   },
   "outputs": [],
   "source": []
  }
 ],
 "metadata": {
  "kernelspec": {
   "display_name": "Python 3",
   "language": "python",
   "name": "python3"
  },
  "language_info": {
   "codemirror_mode": {
    "name": "ipython",
    "version": 3
   },
   "file_extension": ".py",
   "mimetype": "text/x-python",
   "name": "python",
   "nbconvert_exporter": "python",
   "pygments_lexer": "ipython3",
   "version": "3.6.1"
  },
  "toc": {
   "base_numbering": 1,
   "nav_menu": {},
   "number_sections": true,
   "sideBar": true,
   "skip_h1_title": false,
   "title_cell": "Table of Contents",
   "title_sidebar": "Contents",
   "toc_cell": false,
   "toc_position": {},
   "toc_section_display": true,
   "toc_window_display": false
  }
 },
 "nbformat": 4,
 "nbformat_minor": 2
}
