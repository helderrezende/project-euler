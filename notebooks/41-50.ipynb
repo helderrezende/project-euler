{
 "cells": [
  {
   "cell_type": "markdown",
   "metadata": {},
   "source": [
    "## Self powers\n",
    "### Problem 48"
   ]
  },
  {
   "cell_type": "markdown",
   "metadata": {},
   "source": [
    "The series,  $1^1 + 2^2 + 3^3 + ... + 10^{10} = 10405071317. $\n",
    "\n",
    "Find the last ten digits of the series, $ 1^1 + 2^2 + 3^3 + ... + 1000^{1000}.$"
   ]
  },
  {
   "cell_type": "code",
   "execution_count": 7,
   "metadata": {},
   "outputs": [
    {
     "name": "stdout",
     "output_type": "stream",
     "text": [
      "Wall time: 11.5 ms\n"
     ]
    },
    {
     "data": {
      "text/plain": [
       "'9110846700'"
      ]
     },
     "execution_count": 7,
     "metadata": {},
     "output_type": "execute_result"
    }
   ],
   "source": [
    "def main():\n",
    "    sum_total = 0\n",
    "\n",
    "    for i in range(1,1001):\n",
    "        sum_total += i**i\n",
    "\n",
    "    return str(sum_total)[-10:]\n",
    "\n",
    "%time main()"
   ]
  }
 ],
 "metadata": {
  "kernelspec": {
   "display_name": "Python 3",
   "language": "python",
   "name": "python3"
  },
  "language_info": {
   "codemirror_mode": {
    "name": "ipython",
    "version": 3
   },
   "file_extension": ".py",
   "mimetype": "text/x-python",
   "name": "python",
   "nbconvert_exporter": "python",
   "pygments_lexer": "ipython3",
   "version": "3.6.1"
  }
 },
 "nbformat": 4,
 "nbformat_minor": 2
}
