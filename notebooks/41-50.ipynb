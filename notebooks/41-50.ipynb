{
 "cells": [
  {
   "cell_type": "markdown",
   "metadata": {},
   "source": [
    "## Self powers\n",
    "### Problem 48"
   ]
  },
  {
   "cell_type": "markdown",
   "metadata": {},
   "source": [
    "The series,  $1^1 + 2^2 + 3^3 + ... + 10^{10} = 10405071317. $\n",
    "\n",
    "Find the last ten digits of the series, $ 1^1 + 2^2 + 3^3 + ... + 1000^{1000}.$"
   ]
  },
  {
   "cell_type": "code",
   "execution_count": 1,
   "metadata": {},
   "outputs": [
    {
     "name": "stdout",
     "output_type": "stream",
     "text": [
      "Wall time: 10.1 ms\n"
     ]
    },
    {
     "data": {
      "text/plain": [
       "'9110846700'"
      ]
     },
     "execution_count": 1,
     "metadata": {},
     "output_type": "execute_result"
    }
   ],
   "source": [
    "def main():\n",
    "    sum_total = 0\n",
    "\n",
    "    for i in range(1, 1001):\n",
    "        sum_total += i**i\n",
    "\n",
    "    return str(sum_total)[-10:]\n",
    "\n",
    "\n",
    "%time main()"
   ]
  },
  {
   "cell_type": "markdown",
   "metadata": {},
   "source": [
    "## Goldbach's other conjecture\n",
    "### Problem 46"
   ]
  },
  {
   "cell_type": "markdown",
   "metadata": {},
   "source": [
    "It was proposed by Christian Goldbach that every odd composite number can be written as the sum of a prime and twice a square.\n",
    "\n",
    "$9 = 7 + 2×1^2$\n",
    "\n",
    "$15 = 7 + 2×2^2$\n",
    "\n",
    "$21 = 3 + 2×3^2$\n",
    "\n",
    "$25 = 7 + 2×3^2$\n",
    "\n",
    "$27 = 19 + 2×2^2$\n",
    "\n",
    "$33 = 31 + 2×1^2$\n",
    "\n",
    "\n",
    "It turns out that the conjecture was false.\n",
    "\n",
    "What is the smallest odd composite that cannot be written as the sum of a prime and twice a square?"
   ]
  },
  {
   "cell_type": "code",
   "execution_count": 2,
   "metadata": {},
   "outputs": [
    {
     "name": "stdout",
     "output_type": "stream",
     "text": [
      "5777\n",
      "Wall time: 5.34 s\n"
     ]
    }
   ],
   "source": [
    "def is_prime(n):\n",
    "    for x in range(3, int(n ** 0.5) + 1, 2):\n",
    "        if (n % x) == 0:\n",
    "            return False\n",
    "\n",
    "    return True\n",
    "\n",
    "\n",
    "def get_primes_by_limit(n):\n",
    "    primes = [2]\n",
    "    primes.extend([x for x in range(3, n, 2) if is_prime(x)])\n",
    "    return primes\n",
    "\n",
    "\n",
    "def main():\n",
    "    iterator = 9\n",
    "    while True:\n",
    "        if not is_prime(iterator):\n",
    "            aux = 1\n",
    "            primes = get_primes_by_limit(iterator)\n",
    "\n",
    "            for prime in primes:\n",
    "                aux = 0\n",
    "                test_number = 0\n",
    "                while test_number < iterator:\n",
    "                    aux += 1\n",
    "                    test_number = prime + 2 * (aux*aux)\n",
    "\n",
    "                if test_number == iterator:\n",
    "                    break\n",
    "\n",
    "            if test_number != iterator:\n",
    "                print(iterator)\n",
    "                break\n",
    "\n",
    "        iterator += 2\n",
    "\n",
    "\n",
    "%time main()"
   ]
  }
 ],
 "metadata": {
  "kernelspec": {
   "display_name": "Python 3",
   "language": "python",
   "name": "python3"
  },
  "language_info": {
   "codemirror_mode": {
    "name": "ipython",
    "version": 3
   },
   "file_extension": ".py",
   "mimetype": "text/x-python",
   "name": "python",
   "nbconvert_exporter": "python",
   "pygments_lexer": "ipython3",
   "version": "3.6.1"
  },
  "toc": {
   "base_numbering": 1,
   "nav_menu": {},
   "number_sections": true,
   "sideBar": true,
   "skip_h1_title": false,
   "title_cell": "Table of Contents",
   "title_sidebar": "Contents",
   "toc_cell": false,
   "toc_position": {},
   "toc_section_display": true,
   "toc_window_display": false
  }
 },
 "nbformat": 4,
 "nbformat_minor": 2
}
