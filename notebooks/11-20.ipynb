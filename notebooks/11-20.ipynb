{
 "cells": [
  {
   "cell_type": "markdown",
   "metadata": {},
   "source": [
    "## Largest product in a grid\n",
    "### Problem 11"
   ]
  },
  {
   "cell_type": "markdown",
   "metadata": {},
   "source": [
    "In the 20×20 grid below, four numbers along a diagonal line have been marked in red.\n",
    "\n",
    "\n",
    "\n",
    "\n",
    "The product of these numbers is 26 × 63 × 78 × 14 = 1788696.\n",
    "\n",
    "What is the greatest product of four adjacent numbers in the same direction (up, down, left, right, or diagonally) in the 20×20 grid?"
   ]
  },
  {
   "cell_type": "code",
   "execution_count": 1,
   "metadata": {},
   "outputs": [
    {
     "data": {
      "text/html": [
       "<div>\n",
       "<table border=\"1\" class=\"dataframe\">\n",
       "  <thead>\n",
       "    <tr style=\"text-align: right;\">\n",
       "      <th></th>\n",
       "      <th>0</th>\n",
       "      <th>1</th>\n",
       "      <th>2</th>\n",
       "      <th>3</th>\n",
       "      <th>4</th>\n",
       "      <th>5</th>\n",
       "      <th>6</th>\n",
       "      <th>7</th>\n",
       "      <th>8</th>\n",
       "      <th>9</th>\n",
       "      <th>10</th>\n",
       "      <th>11</th>\n",
       "      <th>12</th>\n",
       "      <th>13</th>\n",
       "      <th>14</th>\n",
       "      <th>15</th>\n",
       "      <th>16</th>\n",
       "      <th>17</th>\n",
       "      <th>18</th>\n",
       "      <th>19</th>\n",
       "    </tr>\n",
       "  </thead>\n",
       "  <tbody>\n",
       "    <tr>\n",
       "      <th>0</th>\n",
       "      <td>8</td>\n",
       "      <td>2</td>\n",
       "      <td>22</td>\n",
       "      <td>97</td>\n",
       "      <td>38</td>\n",
       "      <td>15</td>\n",
       "      <td>0</td>\n",
       "      <td>40</td>\n",
       "      <td>0</td>\n",
       "      <td>75</td>\n",
       "      <td>4</td>\n",
       "      <td>5</td>\n",
       "      <td>7</td>\n",
       "      <td>78</td>\n",
       "      <td>52</td>\n",
       "      <td>12</td>\n",
       "      <td>50</td>\n",
       "      <td>77</td>\n",
       "      <td>91</td>\n",
       "      <td>8</td>\n",
       "    </tr>\n",
       "    <tr>\n",
       "      <th>1</th>\n",
       "      <td>49</td>\n",
       "      <td>49</td>\n",
       "      <td>99</td>\n",
       "      <td>40</td>\n",
       "      <td>17</td>\n",
       "      <td>81</td>\n",
       "      <td>18</td>\n",
       "      <td>57</td>\n",
       "      <td>60</td>\n",
       "      <td>87</td>\n",
       "      <td>17</td>\n",
       "      <td>40</td>\n",
       "      <td>98</td>\n",
       "      <td>43</td>\n",
       "      <td>69</td>\n",
       "      <td>48</td>\n",
       "      <td>4</td>\n",
       "      <td>56</td>\n",
       "      <td>62</td>\n",
       "      <td>0</td>\n",
       "    </tr>\n",
       "    <tr>\n",
       "      <th>2</th>\n",
       "      <td>81</td>\n",
       "      <td>49</td>\n",
       "      <td>31</td>\n",
       "      <td>73</td>\n",
       "      <td>55</td>\n",
       "      <td>79</td>\n",
       "      <td>14</td>\n",
       "      <td>29</td>\n",
       "      <td>93</td>\n",
       "      <td>71</td>\n",
       "      <td>40</td>\n",
       "      <td>67</td>\n",
       "      <td>53</td>\n",
       "      <td>88</td>\n",
       "      <td>30</td>\n",
       "      <td>3</td>\n",
       "      <td>49</td>\n",
       "      <td>13</td>\n",
       "      <td>36</td>\n",
       "      <td>65</td>\n",
       "    </tr>\n",
       "    <tr>\n",
       "      <th>3</th>\n",
       "      <td>52</td>\n",
       "      <td>70</td>\n",
       "      <td>95</td>\n",
       "      <td>23</td>\n",
       "      <td>4</td>\n",
       "      <td>60</td>\n",
       "      <td>11</td>\n",
       "      <td>42</td>\n",
       "      <td>69</td>\n",
       "      <td>24</td>\n",
       "      <td>68</td>\n",
       "      <td>56</td>\n",
       "      <td>1</td>\n",
       "      <td>32</td>\n",
       "      <td>56</td>\n",
       "      <td>71</td>\n",
       "      <td>37</td>\n",
       "      <td>2</td>\n",
       "      <td>36</td>\n",
       "      <td>91</td>\n",
       "    </tr>\n",
       "    <tr>\n",
       "      <th>4</th>\n",
       "      <td>22</td>\n",
       "      <td>31</td>\n",
       "      <td>16</td>\n",
       "      <td>71</td>\n",
       "      <td>51</td>\n",
       "      <td>67</td>\n",
       "      <td>63</td>\n",
       "      <td>89</td>\n",
       "      <td>41</td>\n",
       "      <td>92</td>\n",
       "      <td>36</td>\n",
       "      <td>54</td>\n",
       "      <td>22</td>\n",
       "      <td>40</td>\n",
       "      <td>40</td>\n",
       "      <td>28</td>\n",
       "      <td>66</td>\n",
       "      <td>33</td>\n",
       "      <td>13</td>\n",
       "      <td>80</td>\n",
       "    </tr>\n",
       "    <tr>\n",
       "      <th>5</th>\n",
       "      <td>24</td>\n",
       "      <td>47</td>\n",
       "      <td>32</td>\n",
       "      <td>60</td>\n",
       "      <td>99</td>\n",
       "      <td>3</td>\n",
       "      <td>45</td>\n",
       "      <td>2</td>\n",
       "      <td>44</td>\n",
       "      <td>75</td>\n",
       "      <td>33</td>\n",
       "      <td>53</td>\n",
       "      <td>78</td>\n",
       "      <td>36</td>\n",
       "      <td>84</td>\n",
       "      <td>20</td>\n",
       "      <td>35</td>\n",
       "      <td>17</td>\n",
       "      <td>12</td>\n",
       "      <td>50</td>\n",
       "    </tr>\n",
       "    <tr>\n",
       "      <th>6</th>\n",
       "      <td>32</td>\n",
       "      <td>98</td>\n",
       "      <td>81</td>\n",
       "      <td>28</td>\n",
       "      <td>64</td>\n",
       "      <td>23</td>\n",
       "      <td>67</td>\n",
       "      <td>10</td>\n",
       "      <td>26</td>\n",
       "      <td>38</td>\n",
       "      <td>40</td>\n",
       "      <td>67</td>\n",
       "      <td>59</td>\n",
       "      <td>54</td>\n",
       "      <td>70</td>\n",
       "      <td>66</td>\n",
       "      <td>18</td>\n",
       "      <td>38</td>\n",
       "      <td>64</td>\n",
       "      <td>70</td>\n",
       "    </tr>\n",
       "    <tr>\n",
       "      <th>7</th>\n",
       "      <td>67</td>\n",
       "      <td>26</td>\n",
       "      <td>20</td>\n",
       "      <td>68</td>\n",
       "      <td>2</td>\n",
       "      <td>62</td>\n",
       "      <td>12</td>\n",
       "      <td>20</td>\n",
       "      <td>95</td>\n",
       "      <td>63</td>\n",
       "      <td>94</td>\n",
       "      <td>39</td>\n",
       "      <td>63</td>\n",
       "      <td>8</td>\n",
       "      <td>40</td>\n",
       "      <td>91</td>\n",
       "      <td>66</td>\n",
       "      <td>49</td>\n",
       "      <td>94</td>\n",
       "      <td>21</td>\n",
       "    </tr>\n",
       "    <tr>\n",
       "      <th>8</th>\n",
       "      <td>24</td>\n",
       "      <td>55</td>\n",
       "      <td>58</td>\n",
       "      <td>5</td>\n",
       "      <td>66</td>\n",
       "      <td>73</td>\n",
       "      <td>99</td>\n",
       "      <td>26</td>\n",
       "      <td>97</td>\n",
       "      <td>17</td>\n",
       "      <td>78</td>\n",
       "      <td>78</td>\n",
       "      <td>96</td>\n",
       "      <td>83</td>\n",
       "      <td>14</td>\n",
       "      <td>88</td>\n",
       "      <td>34</td>\n",
       "      <td>89</td>\n",
       "      <td>63</td>\n",
       "      <td>72</td>\n",
       "    </tr>\n",
       "    <tr>\n",
       "      <th>9</th>\n",
       "      <td>21</td>\n",
       "      <td>36</td>\n",
       "      <td>23</td>\n",
       "      <td>9</td>\n",
       "      <td>75</td>\n",
       "      <td>0</td>\n",
       "      <td>76</td>\n",
       "      <td>44</td>\n",
       "      <td>20</td>\n",
       "      <td>45</td>\n",
       "      <td>35</td>\n",
       "      <td>14</td>\n",
       "      <td>0</td>\n",
       "      <td>61</td>\n",
       "      <td>33</td>\n",
       "      <td>97</td>\n",
       "      <td>34</td>\n",
       "      <td>31</td>\n",
       "      <td>33</td>\n",
       "      <td>95</td>\n",
       "    </tr>\n",
       "    <tr>\n",
       "      <th>10</th>\n",
       "      <td>78</td>\n",
       "      <td>17</td>\n",
       "      <td>53</td>\n",
       "      <td>28</td>\n",
       "      <td>22</td>\n",
       "      <td>75</td>\n",
       "      <td>31</td>\n",
       "      <td>67</td>\n",
       "      <td>15</td>\n",
       "      <td>94</td>\n",
       "      <td>3</td>\n",
       "      <td>80</td>\n",
       "      <td>4</td>\n",
       "      <td>62</td>\n",
       "      <td>16</td>\n",
       "      <td>14</td>\n",
       "      <td>9</td>\n",
       "      <td>53</td>\n",
       "      <td>56</td>\n",
       "      <td>92</td>\n",
       "    </tr>\n",
       "    <tr>\n",
       "      <th>11</th>\n",
       "      <td>16</td>\n",
       "      <td>39</td>\n",
       "      <td>5</td>\n",
       "      <td>42</td>\n",
       "      <td>96</td>\n",
       "      <td>35</td>\n",
       "      <td>31</td>\n",
       "      <td>47</td>\n",
       "      <td>55</td>\n",
       "      <td>58</td>\n",
       "      <td>88</td>\n",
       "      <td>24</td>\n",
       "      <td>0</td>\n",
       "      <td>17</td>\n",
       "      <td>54</td>\n",
       "      <td>24</td>\n",
       "      <td>36</td>\n",
       "      <td>29</td>\n",
       "      <td>85</td>\n",
       "      <td>57</td>\n",
       "    </tr>\n",
       "    <tr>\n",
       "      <th>12</th>\n",
       "      <td>86</td>\n",
       "      <td>56</td>\n",
       "      <td>0</td>\n",
       "      <td>48</td>\n",
       "      <td>35</td>\n",
       "      <td>71</td>\n",
       "      <td>89</td>\n",
       "      <td>7</td>\n",
       "      <td>5</td>\n",
       "      <td>44</td>\n",
       "      <td>44</td>\n",
       "      <td>37</td>\n",
       "      <td>44</td>\n",
       "      <td>60</td>\n",
       "      <td>21</td>\n",
       "      <td>58</td>\n",
       "      <td>51</td>\n",
       "      <td>54</td>\n",
       "      <td>17</td>\n",
       "      <td>58</td>\n",
       "    </tr>\n",
       "    <tr>\n",
       "      <th>13</th>\n",
       "      <td>19</td>\n",
       "      <td>80</td>\n",
       "      <td>81</td>\n",
       "      <td>68</td>\n",
       "      <td>5</td>\n",
       "      <td>94</td>\n",
       "      <td>47</td>\n",
       "      <td>69</td>\n",
       "      <td>28</td>\n",
       "      <td>73</td>\n",
       "      <td>92</td>\n",
       "      <td>13</td>\n",
       "      <td>86</td>\n",
       "      <td>52</td>\n",
       "      <td>17</td>\n",
       "      <td>77</td>\n",
       "      <td>4</td>\n",
       "      <td>89</td>\n",
       "      <td>55</td>\n",
       "      <td>40</td>\n",
       "    </tr>\n",
       "    <tr>\n",
       "      <th>14</th>\n",
       "      <td>4</td>\n",
       "      <td>52</td>\n",
       "      <td>8</td>\n",
       "      <td>83</td>\n",
       "      <td>97</td>\n",
       "      <td>35</td>\n",
       "      <td>99</td>\n",
       "      <td>16</td>\n",
       "      <td>7</td>\n",
       "      <td>97</td>\n",
       "      <td>57</td>\n",
       "      <td>32</td>\n",
       "      <td>16</td>\n",
       "      <td>26</td>\n",
       "      <td>26</td>\n",
       "      <td>79</td>\n",
       "      <td>33</td>\n",
       "      <td>27</td>\n",
       "      <td>98</td>\n",
       "      <td>66</td>\n",
       "    </tr>\n",
       "    <tr>\n",
       "      <th>15</th>\n",
       "      <td>88</td>\n",
       "      <td>36</td>\n",
       "      <td>68</td>\n",
       "      <td>87</td>\n",
       "      <td>57</td>\n",
       "      <td>62</td>\n",
       "      <td>20</td>\n",
       "      <td>72</td>\n",
       "      <td>3</td>\n",
       "      <td>46</td>\n",
       "      <td>33</td>\n",
       "      <td>67</td>\n",
       "      <td>46</td>\n",
       "      <td>55</td>\n",
       "      <td>12</td>\n",
       "      <td>32</td>\n",
       "      <td>63</td>\n",
       "      <td>93</td>\n",
       "      <td>53</td>\n",
       "      <td>69</td>\n",
       "    </tr>\n",
       "    <tr>\n",
       "      <th>16</th>\n",
       "      <td>4</td>\n",
       "      <td>42</td>\n",
       "      <td>16</td>\n",
       "      <td>73</td>\n",
       "      <td>38</td>\n",
       "      <td>25</td>\n",
       "      <td>39</td>\n",
       "      <td>11</td>\n",
       "      <td>24</td>\n",
       "      <td>94</td>\n",
       "      <td>72</td>\n",
       "      <td>18</td>\n",
       "      <td>8</td>\n",
       "      <td>46</td>\n",
       "      <td>29</td>\n",
       "      <td>32</td>\n",
       "      <td>40</td>\n",
       "      <td>62</td>\n",
       "      <td>76</td>\n",
       "      <td>36</td>\n",
       "    </tr>\n",
       "    <tr>\n",
       "      <th>17</th>\n",
       "      <td>20</td>\n",
       "      <td>69</td>\n",
       "      <td>36</td>\n",
       "      <td>41</td>\n",
       "      <td>72</td>\n",
       "      <td>30</td>\n",
       "      <td>23</td>\n",
       "      <td>88</td>\n",
       "      <td>34</td>\n",
       "      <td>62</td>\n",
       "      <td>99</td>\n",
       "      <td>69</td>\n",
       "      <td>82</td>\n",
       "      <td>67</td>\n",
       "      <td>59</td>\n",
       "      <td>85</td>\n",
       "      <td>74</td>\n",
       "      <td>4</td>\n",
       "      <td>36</td>\n",
       "      <td>16</td>\n",
       "    </tr>\n",
       "    <tr>\n",
       "      <th>18</th>\n",
       "      <td>20</td>\n",
       "      <td>73</td>\n",
       "      <td>35</td>\n",
       "      <td>29</td>\n",
       "      <td>78</td>\n",
       "      <td>31</td>\n",
       "      <td>90</td>\n",
       "      <td>1</td>\n",
       "      <td>74</td>\n",
       "      <td>31</td>\n",
       "      <td>49</td>\n",
       "      <td>71</td>\n",
       "      <td>48</td>\n",
       "      <td>86</td>\n",
       "      <td>81</td>\n",
       "      <td>16</td>\n",
       "      <td>23</td>\n",
       "      <td>57</td>\n",
       "      <td>5</td>\n",
       "      <td>54</td>\n",
       "    </tr>\n",
       "    <tr>\n",
       "      <th>19</th>\n",
       "      <td>1</td>\n",
       "      <td>70</td>\n",
       "      <td>54</td>\n",
       "      <td>71</td>\n",
       "      <td>83</td>\n",
       "      <td>51</td>\n",
       "      <td>54</td>\n",
       "      <td>69</td>\n",
       "      <td>16</td>\n",
       "      <td>92</td>\n",
       "      <td>33</td>\n",
       "      <td>48</td>\n",
       "      <td>61</td>\n",
       "      <td>43</td>\n",
       "      <td>52</td>\n",
       "      <td>1</td>\n",
       "      <td>89</td>\n",
       "      <td>19</td>\n",
       "      <td>67</td>\n",
       "      <td>48</td>\n",
       "    </tr>\n",
       "  </tbody>\n",
       "</table>\n",
       "</div>"
      ],
      "text/plain": [
       "    0   1   2   3   4   5   6   7   8   9   10  11  12  13  14  15  16  17  \\\n",
       "0    8   2  22  97  38  15   0  40   0  75   4   5   7  78  52  12  50  77   \n",
       "1   49  49  99  40  17  81  18  57  60  87  17  40  98  43  69  48   4  56   \n",
       "2   81  49  31  73  55  79  14  29  93  71  40  67  53  88  30   3  49  13   \n",
       "3   52  70  95  23   4  60  11  42  69  24  68  56   1  32  56  71  37   2   \n",
       "4   22  31  16  71  51  67  63  89  41  92  36  54  22  40  40  28  66  33   \n",
       "5   24  47  32  60  99   3  45   2  44  75  33  53  78  36  84  20  35  17   \n",
       "6   32  98  81  28  64  23  67  10  26  38  40  67  59  54  70  66  18  38   \n",
       "7   67  26  20  68   2  62  12  20  95  63  94  39  63   8  40  91  66  49   \n",
       "8   24  55  58   5  66  73  99  26  97  17  78  78  96  83  14  88  34  89   \n",
       "9   21  36  23   9  75   0  76  44  20  45  35  14   0  61  33  97  34  31   \n",
       "10  78  17  53  28  22  75  31  67  15  94   3  80   4  62  16  14   9  53   \n",
       "11  16  39   5  42  96  35  31  47  55  58  88  24   0  17  54  24  36  29   \n",
       "12  86  56   0  48  35  71  89   7   5  44  44  37  44  60  21  58  51  54   \n",
       "13  19  80  81  68   5  94  47  69  28  73  92  13  86  52  17  77   4  89   \n",
       "14   4  52   8  83  97  35  99  16   7  97  57  32  16  26  26  79  33  27   \n",
       "15  88  36  68  87  57  62  20  72   3  46  33  67  46  55  12  32  63  93   \n",
       "16   4  42  16  73  38  25  39  11  24  94  72  18   8  46  29  32  40  62   \n",
       "17  20  69  36  41  72  30  23  88  34  62  99  69  82  67  59  85  74   4   \n",
       "18  20  73  35  29  78  31  90   1  74  31  49  71  48  86  81  16  23  57   \n",
       "19   1  70  54  71  83  51  54  69  16  92  33  48  61  43  52   1  89  19   \n",
       "\n",
       "    18  19  \n",
       "0   91   8  \n",
       "1   62   0  \n",
       "2   36  65  \n",
       "3   36  91  \n",
       "4   13  80  \n",
       "5   12  50  \n",
       "6   64  70  \n",
       "7   94  21  \n",
       "8   63  72  \n",
       "9   33  95  \n",
       "10  56  92  \n",
       "11  85  57  \n",
       "12  17  58  \n",
       "13  55  40  \n",
       "14  98  66  \n",
       "15  53  69  \n",
       "16  76  36  \n",
       "17  36  16  \n",
       "18   5  54  \n",
       "19  67  48  "
      ]
     },
     "execution_count": 1,
     "metadata": {},
     "output_type": "execute_result"
    }
   ],
   "source": [
    "import pandas as pd\n",
    "\n",
    "table = pd.read_table(r'data/number_problem_11.txt', header=None, sep=' ')\n",
    "\n",
    "number_rows = 20\n",
    "number_columns = 20\n",
    "table"
   ]
  },
  {
   "cell_type": "code",
   "execution_count": 2,
   "metadata": {
    "collapsed": true
   },
   "outputs": [],
   "source": [
    "max_product_up_down = 0\n",
    "\n",
    "for i in range(number_columns):\n",
    "    for x in range(number_columns-3):\n",
    "        product_number = table.iloc[i][x:x+4].product()\n",
    "        if product_number > max_product_up_down:\n",
    "            max_product_up_down = product_number"
   ]
  },
  {
   "cell_type": "code",
   "execution_count": 3,
   "metadata": {
    "collapsed": true
   },
   "outputs": [],
   "source": [
    "max_product_lelft_right = 0\n",
    "\n",
    "for i in range(number_rows):\n",
    "    for x in range(number_rows-3):\n",
    "        product_number = table.iloc[x:x+4][i].product()\n",
    "        if product_number > max_product_lelft_right:\n",
    "            max_product_lelft_right = product_number"
   ]
  },
  {
   "cell_type": "code",
   "execution_count": 4,
   "metadata": {
    "collapsed": true
   },
   "outputs": [],
   "source": [
    "max_product_diagonally_right = 0\n",
    "\n",
    "for x in range(number_rows-3):\n",
    "    for i in range(number_rows-3):\n",
    "        product_number = table.iloc[x][i] * table.iloc[x +\n",
    "                                                       1][i+1] * table.iloc[x+2][i+2] * table.iloc[x+3][i+3]\n",
    "        if product_number > max_product_diagonally_right:\n",
    "            max_product_diagonally_right = product_number"
   ]
  },
  {
   "cell_type": "code",
   "execution_count": 5,
   "metadata": {
    "collapsed": true
   },
   "outputs": [],
   "source": [
    "max_product_diagonally_left = 0\n",
    "\n",
    "for x in range(number_rows-3):\n",
    "    for i in range(number_rows-3):\n",
    "        product_number = table.iloc[x][19-i] * table.iloc[x+1][19 -\n",
    "                                                               (i+1)] * table.iloc[x+2][19-(i+2)] * table.iloc[x+3][19-(i+3)]\n",
    "        if product_number > max_product_diagonally_left:\n",
    "            max_product_diagonally_left = product_number"
   ]
  },
  {
   "cell_type": "code",
   "execution_count": 6,
   "metadata": {},
   "outputs": [
    {
     "data": {
      "text/plain": [
       "70600674"
      ]
     },
     "execution_count": 6,
     "metadata": {},
     "output_type": "execute_result"
    }
   ],
   "source": [
    "max(max_product_up_down, max_product_lelft_right,\n",
    "    max_product_diagonally_right, max_product_diagonally_left)"
   ]
  },
  {
   "cell_type": "markdown",
   "metadata": {},
   "source": [
    "## Highly divisible triangular number\n",
    "### Problem 12"
   ]
  },
  {
   "cell_type": "markdown",
   "metadata": {},
   "source": [
    "The sequence of triangle numbers is generated by adding the natural numbers. So the 7th triangle number would be 1 + 2 + 3 + 4 + 5 + 6 + 7 = 28. The first ten terms would be:\n",
    "\n",
    "1, 3, 6, 10, 15, 21, 28, 36, 45, 55, ...\n",
    "\n",
    "Let us list the factors of the first seven triangle numbers:\n",
    "\n",
    " 1: 1\n",
    " \n",
    " 3: 1,3\n",
    " \n",
    " 6: 1,2,3,6\n",
    " \n",
    "10: 1,2,5,10\n",
    "\n",
    "15: 1,3,5,15\n",
    "\n",
    "21: 1,3,7,21\n",
    "\n",
    "28: 1,2,4,7,14,28\n",
    "\n",
    "We can see that 28 is the first triangle number to have over five divisors.\n",
    "\n",
    "What is the value of the first triangle number to have over five hundred divisors?"
   ]
  },
  {
   "cell_type": "code",
   "execution_count": 6,
   "metadata": {
    "collapsed": true
   },
   "outputs": [],
   "source": [
    "from collections import Counter\n",
    "from operator import mul\n",
    "from functools import reduce\n",
    "from math import sqrt\n",
    "\n",
    "\n",
    "def is_prime(n):\n",
    "    for x in range(3, int(n ** 0.5) + 1, 2):\n",
    "        if (n % x) == 0:\n",
    "            return False\n",
    "\n",
    "    return True\n",
    "\n",
    "\n",
    "def get_primes(n):\n",
    "    primes = []\n",
    "    for number in range(2, n+1):\n",
    "        if is_prime(number):\n",
    "            primes.append(number)\n",
    "\n",
    "    return primes\n",
    "\n",
    "\n",
    "def get_factos(n):\n",
    "    factors = [n]\n",
    "    for x in range(1, int(sqrt(n) + 1)):\n",
    "        if (n % x) == 0:\n",
    "            factors.append(x)\n",
    "\n",
    "    return factors\n",
    "\n",
    "\n",
    "def get_number_factors(n):\n",
    "    primes = get_primes(int(n/2))\n",
    "\n",
    "    if is_prime(n):\n",
    "        primes.append(n)\n",
    "\n",
    "    max_iterator = len(primes)\n",
    "    iterator = 0\n",
    "    factors = []\n",
    "\n",
    "    while n != 1:\n",
    "        if (n / primes[iterator]).is_integer():\n",
    "            factors.append(primes[iterator])\n",
    "            n = n/primes[iterator]\n",
    "        else:\n",
    "            iterator += 1\n",
    "\n",
    "        if iterator == max_iterator:\n",
    "            break\n",
    "\n",
    "    return reduce(mul, [x+1 for x in dict(Counter(factors)).values()])\n",
    "\n",
    "\n",
    "def generate_triangle_number(position):\n",
    "    return sum([x for x in range(position+1)])"
   ]
  },
  {
   "cell_type": "code",
   "execution_count": null,
   "metadata": {},
   "outputs": [],
   "source": [
    "#position_triangle = 100\n",
    "#number_of_factors = 2\n",
    "\n",
    "while number_of_factors < 500:\n",
    "    number = generate_triangle_number(position_triangle)\n",
    "    number_of_factors = get_number_factors(number)\n",
    "    position_triangle += 1"
   ]
  },
  {
   "cell_type": "code",
   "execution_count": 40,
   "metadata": {},
   "outputs": [
    {
     "data": {
      "text/plain": [
       "559153"
      ]
     },
     "execution_count": 40,
     "metadata": {},
     "output_type": "execute_result"
    }
   ],
   "source": [
    "(2^5) * 3()"
   ]
  },
  {
   "cell_type": "code",
   "execution_count": 53,
   "metadata": {
    "collapsed": true
   },
   "outputs": [],
   "source": [
    "def gcd(a, b):\n",
    "    while b:\n",
    "        a, b = b, a % b\n",
    "    return a\n",
    "\n",
    "\n",
    "def lcm(a, b):\n",
    "    return a * b // gcd(a, b)\n",
    "\n",
    "\n",
    "def mmc(*args):\n",
    "    return reduce(lcm, args)"
   ]
  },
  {
   "cell_type": "code",
   "execution_count": 54,
   "metadata": {},
   "outputs": [
    {
     "data": {
      "text/plain": [
       "6"
      ]
     },
     "execution_count": 54,
     "metadata": {},
     "output_type": "execute_result"
    }
   ],
   "source": [
    "mmc(2,3)"
   ]
  },
  {
   "cell_type": "code",
   "execution_count": 43,
   "metadata": {},
   "outputs": [
    {
     "data": {
      "text/plain": [
       "12"
      ]
     },
     "execution_count": 43,
     "metadata": {},
     "output_type": "execute_result"
    }
   ],
   "source": [
    "get_number_factors(number)"
   ]
  },
  {
   "cell_type": "markdown",
   "metadata": {},
   "source": [
    "## Large sum\n",
    "### Problem 13"
   ]
  },
  {
   "cell_type": "markdown",
   "metadata": {},
   "source": [
    "Work out the first ten digits of the sum of the following one-hundred 50-digit numbers."
   ]
  },
  {
   "cell_type": "code",
   "execution_count": 44,
   "metadata": {},
   "outputs": [
    {
     "name": "stdout",
     "output_type": "stream",
     "text": [
      "Wall time: 1.51 ms\n"
     ]
    },
    {
     "data": {
      "text/plain": [
       "'5537376230'"
      ]
     },
     "execution_count": 44,
     "metadata": {},
     "output_type": "execute_result"
    }
   ],
   "source": [
    "from functools import reduce\n",
    "import operator\n",
    "\n",
    "number = open(r'data/number_problem_13.txt', 'r')\n",
    "\n",
    "\n",
    "def main():\n",
    "    sum_number = 0\n",
    "    str_number = ''\n",
    "\n",
    "    for line in number:\n",
    "        sum_number += int(line)\n",
    "\n",
    "    return str(sum_number)[:10]\n",
    "\n",
    "\n",
    "%time main()"
   ]
  },
  {
   "cell_type": "markdown",
   "metadata": {},
   "source": [
    "## Longest Collatz sequence\n",
    "### Problem 14"
   ]
  },
  {
   "cell_type": "markdown",
   "metadata": {},
   "source": [
    "The following iterative sequence is defined for the set of positive integers:\n",
    "\n",
    "$n → n/2 $ (n is even)\n",
    "\n",
    "$ n → 3n + 1 $(n is odd)\n",
    "\n",
    "Using the rule above and starting with 13, we generate the following sequence:\n",
    "\n",
    "13 → 40 → 20 → 10 → 5 → 16 → 8 → 4 → 2 → 1\n",
    "It can be seen that this sequence (starting at 13 and finishing at 1) contains 10 terms. Although it has not been proved yet (Collatz Problem), it is thought that all starting numbers finish at 1.\n",
    "\n",
    "Which starting number, under one million, produces the longest chain?\n",
    "\n",
    "NOTE: Once the chain starts the terms are allowed to go above one million."
   ]
  },
  {
   "cell_type": "code",
   "execution_count": 61,
   "metadata": {
    "collapsed": true
   },
   "outputs": [],
   "source": [
    "def sequence(n):\n",
    "    count = 0\n",
    "    while n != 1:\n",
    "        if (n % 2) == 0:\n",
    "            n = n/2\n",
    "        else:\n",
    "            n = 3*n + 1\n",
    "        count += 1\n",
    "    return count"
   ]
  },
  {
   "cell_type": "code",
   "execution_count": 76,
   "metadata": {},
   "outputs": [
    {
     "name": "stdout",
     "output_type": "stream",
     "text": [
      "Wall time: 31.5 s\n"
     ]
    },
    {
     "data": {
      "text/plain": [
       "837799"
      ]
     },
     "execution_count": 76,
     "metadata": {},
     "output_type": "execute_result"
    }
   ],
   "source": [
    "def main():\n",
    "\n",
    "    max_number = 1\n",
    "    iterator = 2\n",
    "    for i in range(2, 1000000):\n",
    "        count = sequence(i)\n",
    "        if count > max_number:\n",
    "            max_number = count\n",
    "            iterator = i\n",
    "\n",
    "    return iterator\n",
    "\n",
    "\n",
    "%time main()"
   ]
  },
  {
   "cell_type": "markdown",
   "metadata": {},
   "source": [
    "## Lattice paths\n",
    "### Problem 15"
   ]
  },
  {
   "cell_type": "markdown",
   "metadata": {},
   "source": [
    "Starting in the top left corner of a 2×2 grid, and only being able to move to the right and down, there are exactly 6 routes to the bottom right corner.\n",
    "\n",
    "\n",
    "How many such routes are there through a 20×20 grid?"
   ]
  },
  {
   "cell_type": "markdown",
   "metadata": {},
   "source": [
    "LLDD\n",
    "\n",
    "LDLD\n",
    "\n",
    "LDDL\n",
    "\n",
    "DLLD\n",
    "\n",
    "DLDL\n",
    "\n",
    "DDLL\n",
    "\n",
    "P4 (2,2) = 4!/(2!*2!) = 6"
   ]
  },
  {
   "cell_type": "markdown",
   "metadata": {},
   "source": [
    "P40 (20,20) =  40!/(20!*20!) "
   ]
  },
  {
   "cell_type": "code",
   "execution_count": 79,
   "metadata": {},
   "outputs": [
    {
     "data": {
      "text/plain": [
       "137846528820.0"
      ]
     },
     "execution_count": 79,
     "metadata": {},
     "output_type": "execute_result"
    }
   ],
   "source": [
    "import math\n",
    "(math.factorial(40)) / (math.factorial(20))**2"
   ]
  },
  {
   "cell_type": "markdown",
   "metadata": {},
   "source": [
    "## Power digit sum\n",
    "### Problem 16"
   ]
  },
  {
   "cell_type": "markdown",
   "metadata": {},
   "source": [
    "2^(15) = 32768 and the sum of its digits is 3 + 2 + 7 + 6 + 8 = 26.\n",
    "\n",
    "What is the sum of the digits of the number 2^(1000)?"
   ]
  },
  {
   "cell_type": "code",
   "execution_count": 54,
   "metadata": {},
   "outputs": [
    {
     "name": "stdout",
     "output_type": "stream",
     "text": [
      "Wall time: 0 ns\n"
     ]
    },
    {
     "data": {
      "text/plain": [
       "1366"
      ]
     },
     "execution_count": 54,
     "metadata": {},
     "output_type": "execute_result"
    }
   ],
   "source": [
    "def main():\n",
    "    number = 2**(1000)\n",
    "\n",
    "    sum_number = 0\n",
    "    for x in str(number):\n",
    "        sum_number += int(x)\n",
    "\n",
    "    return sum_number\n",
    "\n",
    "\n",
    "%time main()"
   ]
  },
  {
   "cell_type": "markdown",
   "metadata": {},
   "source": [
    "## Factorial digit sum\n",
    "### Problem 20"
   ]
  },
  {
   "cell_type": "markdown",
   "metadata": {},
   "source": [
    "n! means n × (n − 1) × ... × 3 × 2 × 1\n",
    "\n",
    "For example, 10! = 10 × 9 × ... × 3 × 2 × 1 = 3628800,\n",
    "and the sum of the digits in the number 10! is 3 + 6 + 2 + 8 + 8 + 0 + 0 = 27.\n",
    "\n",
    "Find the sum of the digits in the number 100!"
   ]
  },
  {
   "cell_type": "code",
   "execution_count": 61,
   "metadata": {},
   "outputs": [
    {
     "name": "stdout",
     "output_type": "stream",
     "text": [
      "Wall time: 0 ns\n"
     ]
    },
    {
     "data": {
      "text/plain": [
       "648"
      ]
     },
     "execution_count": 61,
     "metadata": {},
     "output_type": "execute_result"
    }
   ],
   "source": [
    "def factorial(x):\n",
    "    if x == 0:\n",
    "        return 1\n",
    "\n",
    "    else:\n",
    "        return x*factorial(x-1)\n",
    "\n",
    "\n",
    "def main():\n",
    "    number = factorial(100)\n",
    "\n",
    "    sum_number = 0\n",
    "    for x in str(number):\n",
    "        sum_number += int(x)\n",
    "\n",
    "    return sum_number\n",
    "\n",
    "\n",
    "%time main()"
   ]
  }
 ],
 "metadata": {
  "kernelspec": {
   "display_name": "Python 3",
   "language": "python",
   "name": "python3"
  },
  "language_info": {
   "codemirror_mode": {
    "name": "ipython",
    "version": 3
   },
   "file_extension": ".py",
   "mimetype": "text/x-python",
   "name": "python",
   "nbconvert_exporter": "python",
   "pygments_lexer": "ipython3",
   "version": "3.6.1"
  },
  "toc": {
   "base_numbering": 1,
   "nav_menu": {},
   "number_sections": true,
   "sideBar": true,
   "skip_h1_title": false,
   "title_cell": "Table of Contents",
   "title_sidebar": "Contents",
   "toc_cell": false,
   "toc_position": {},
   "toc_section_display": true,
   "toc_window_display": false
  }
 },
 "nbformat": 4,
 "nbformat_minor": 2
}
